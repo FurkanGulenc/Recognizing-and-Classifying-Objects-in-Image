{
 "cells": [
  {
   "cell_type": "code",
   "execution_count": 1,
   "id": "1f6c849a",
   "metadata": {},
   "outputs": [
    {
     "name": "stderr",
     "output_type": "stream",
     "text": [
      "2023-01-13 14:35:04.056562: I tensorflow/core/platform/cpu_feature_guard.cc:193] This TensorFlow binary is optimized with oneAPI Deep Neural Network Library (oneDNN) to use the following CPU instructions in performance-critical operations:  SSE4.1 SSE4.2 AVX AVX2 FMA\n",
      "To enable them in other operations, rebuild TensorFlow with the appropriate compiler flags.\n"
     ]
    }
   ],
   "source": [
    "import tensorflow as tf\n",
    "import numpy as np\n",
    "import pandas as pd\n",
    "from tensorflow.keras import datasets, layers, models\n",
    "import matplotlib.pyplot as plt"
   ]
  },
  {
   "cell_type": "code",
   "execution_count": 2,
   "id": "01a9044c",
   "metadata": {},
   "outputs": [],
   "source": [
    "(x_train, y_train), (x_test,y_test) = datasets.cifar10.load_data()"
   ]
  },
  {
   "cell_type": "code",
   "execution_count": 3,
   "id": "20987be2",
   "metadata": {},
   "outputs": [
    {
     "data": {
      "text/plain": [
       "array([[6],\n",
       "       [9],\n",
       "       [9],\n",
       "       ...,\n",
       "       [9],\n",
       "       [1],\n",
       "       [1]], dtype=uint8)"
      ]
     },
     "execution_count": 3,
     "metadata": {},
     "output_type": "execute_result"
    }
   ],
   "source": [
    "y_train"
   ]
  },
  {
   "cell_type": "code",
   "execution_count": 5,
   "id": "c533168e",
   "metadata": {},
   "outputs": [
    {
     "data": {
      "text/plain": [
       "(50000, 32, 32, 3)"
      ]
     },
     "execution_count": 5,
     "metadata": {},
     "output_type": "execute_result"
    }
   ],
   "source": [
    "x_train.shape"
   ]
  },
  {
   "cell_type": "code",
   "execution_count": 6,
   "id": "8dd86a9f",
   "metadata": {},
   "outputs": [
    {
     "data": {
      "text/plain": [
       "(10000, 32, 32, 3)"
      ]
     },
     "execution_count": 6,
     "metadata": {},
     "output_type": "execute_result"
    }
   ],
   "source": [
    "x_test.shape"
   ]
  },
  {
   "cell_type": "code",
   "execution_count": 7,
   "id": "7c9c11b7",
   "metadata": {},
   "outputs": [
    {
     "data": {
      "text/plain": [
       "(50000, 1)"
      ]
     },
     "execution_count": 7,
     "metadata": {},
     "output_type": "execute_result"
    }
   ],
   "source": [
    "y_train.shape"
   ]
  },
  {
   "cell_type": "code",
   "execution_count": 8,
   "id": "57c951a6",
   "metadata": {},
   "outputs": [
    {
     "data": {
      "text/plain": [
       "(10000, 1)"
      ]
     },
     "execution_count": 8,
     "metadata": {},
     "output_type": "execute_result"
    }
   ],
   "source": [
    "y_test.shape"
   ]
  },
  {
   "cell_type": "code",
   "execution_count": 9,
   "id": "cb72c106",
   "metadata": {},
   "outputs": [
    {
     "data": {
      "text/plain": [
       "array([[3],\n",
       "       [8],\n",
       "       [8],\n",
       "       ...,\n",
       "       [5],\n",
       "       [1],\n",
       "       [7]], dtype=uint8)"
      ]
     },
     "execution_count": 9,
     "metadata": {},
     "output_type": "execute_result"
    }
   ],
   "source": [
    "y_test"
   ]
  },
  {
   "cell_type": "code",
   "execution_count": 11,
   "id": "ff301607",
   "metadata": {},
   "outputs": [],
   "source": [
    "# verileri daha rahat anlamak için tek boyutlu hale getiriyoruz\n",
    "y_test = y_test.reshape(-1)"
   ]
  },
  {
   "cell_type": "code",
   "execution_count": 12,
   "id": "0c9e8ecc",
   "metadata": {},
   "outputs": [],
   "source": [
    "resim_siniflari = [\"airplane\", \"automobile\", \"bird\", \"cat\", \"deer\", \"dog\", \"frog\", \"horse\", \"ship\", \"truck\"]"
   ]
  },
  {
   "cell_type": "code",
   "execution_count": 13,
   "id": "57947002",
   "metadata": {},
   "outputs": [],
   "source": [
    "def plot_sample(x, y, index):\n",
    "    plt.figure(figsize=(15,2))\n",
    "    plt.imshow(x[index])\n",
    "    plt.xlabel(resim_siniflari[y[index]])\n",
    "    plt.show()\n"
   ]
  },
  {
   "cell_type": "code",
   "execution_count": 14,
   "id": "0451ca5e",
   "metadata": {},
   "outputs": [
    {
     "data": {
      "image/png": "[encoded data removed]",
      "text/plain": [
       "<Figure size 1500x200 with 1 Axes>"
      ]
     },
     "metadata": {},
     "output_type": "display_data"
    }
   ],
   "source": [
    "plot_sample(x_test, y_test, 0)"
   ]
  },
  {
   "cell_type": "code",
   "execution_count": 15,
   "id": "4c514867",
   "metadata": {},
   "outputs": [],
   "source": [
    "# Normalization yapmak için  RGB olarak 3 kanal ve her bir pixel 0-255 arasında değer aldığı için \n",
    "# basitçe her bir pixel değerini 255'e bölmemiz yeterli\n",
    "x_train = x_train / 255\n",
    "x_test = x_test / 255"
   ]
  },
  {
   "cell_type": "code",
   "execution_count": 20,
   "id": "09540ebe",
   "metadata": {},
   "outputs": [],
   "source": [
    "deep_learning_model = models.Sequential([\n",
    "    \n",
    "    # Convolution layer kısmında fotoğraflardan tanımlama yapabilmek için özellikleri çıkarıyoruz\n",
    "    layers.Conv2D(filters=32, kernel_size=(3,3), activation=\"relu\", input_shape=(32,32,3)),\n",
    "    # belirli bölgedeki en yüksek değeri alıp ve girdi verilerini ve işlem süresini azaltmak için pooling yapıyoruz\n",
    "    layers.MaxPooling2D((2, 2)),\n",
    "    \n",
    "    layers.Conv2D(filters=64, kernel_size=(3,3), activation=\"relu\"),\n",
    "    layers.MaxPooling2D((2, 2)),\n",
    "    \n",
    "     # Yukarıdaki özelliklerimiz ve training bilgilerine göre ANN modelimizi eğitiyoruz\n",
    "    layers.Flatten(),\n",
    "    layers.Dense(64, activation=\"relu\"),\n",
    "    layers.Dense(10, activation=\"softmax\")\n",
    "])"
   ]
  },
  {
   "cell_type": "code",
   "execution_count": 21,
   "id": "395fbbba",
   "metadata": {},
   "outputs": [],
   "source": [
    "deep_learning_model.compile(optimizer='adam',\n",
    "              loss='sparse_categorical_crossentropy',\n",
    "              metrics=['accuracy'])"
   ]
  },
  {
   "cell_type": "code",
   "execution_count": 37,
   "id": "8f8afe43",
   "metadata": {},
   "outputs": [
    {
     "name": "stdout",
     "output_type": "stream",
     "text": [
      "Epoch 1/5\n",
      "1563/1563 [==============================] - 28s 17ms/step - loss: 1.4946 - accuracy: 0.4638\n",
      "Epoch 2/5\n",
      "1563/1563 [==============================] - 26s 17ms/step - loss: 1.1444 - accuracy: 0.5976\n",
      "Epoch 3/5\n",
      "1563/1563 [==============================] - 26s 17ms/step - loss: 1.0089 - accuracy: 0.6506\n",
      "Epoch 4/5\n",
      "1563/1563 [==============================] - 27s 17ms/step - loss: 0.9195 - accuracy: 0.6816\n",
      "Epoch 5/5\n",
      "1563/1563 [==============================] - 26s 17ms/step - loss: 0.8548 - accuracy: 0.7030\n"
     ]
    },
    {
     "data": {
      "text/plain": [
       "<keras.callbacks.History at 0x7fd7e0365d30>"
      ]
     },
     "execution_count": 37,
     "metadata": {},
     "output_type": "execute_result"
    }
   ],
   "source": [
    "deep_learning_model.fit(x_train, y_train, epochs =5)"
   ]
  },
  {
   "cell_type": "code",
   "execution_count": 38,
   "id": "f88b7e97",
   "metadata": {},
   "outputs": [
    {
     "name": "stdout",
     "output_type": "stream",
     "text": [
      "313/313 [==============================] - 2s 7ms/step - loss: 0.9351 - accuracy: 0.6762\n"
     ]
    },
    {
     "data": {
      "text/plain": [
       "[0.9351480603218079, 0.6761999726295471]"
      ]
     },
     "execution_count": 38,
     "metadata": {},
     "output_type": "execute_result"
    }
   ],
   "source": [
    "deep_learning_model.evaluate(x_test,y_test)"
   ]
  },
  {
   "cell_type": "code",
   "execution_count": 39,
   "id": "55c7036f",
   "metadata": {},
   "outputs": [
    {
     "name": "stdout",
     "output_type": "stream",
     "text": [
      "313/313 [==============================] - 2s 6ms/step\n"
     ]
    },
    {
     "data": {
      "text/plain": [
       "array([[8.9732064e-03, 1.5230711e-04, 1.4517739e-02, 6.3901210e-01,\n",
       "        4.2107119e-03, 2.2743782e-01, 3.8764097e-02, 1.2850014e-03,\n",
       "        6.4406633e-02, 1.2404305e-03],\n",
       "       [1.5266995e-03, 1.8755404e-03, 9.9854969e-06, 2.7839110e-06,\n",
       "        3.6764552e-06, 1.7967689e-07, 5.3010149e-07, 2.3351506e-06,\n",
       "        9.9617141e-01, 4.0682158e-04],\n",
       "       [8.5248426e-02, 1.3710800e-01, 3.1216065e-03, 7.0345588e-03,\n",
       "        2.0207274e-03, 5.0956034e-04, 1.0267724e-03, 1.0378705e-03,\n",
       "        6.7953628e-01, 8.3356142e-02]], dtype=float32)"
      ]
     },
     "execution_count": 39,
     "metadata": {},
     "output_type": "execute_result"
    }
   ],
   "source": [
    "y_pred = deep_learning_model.predict(x_test)\n",
    "y_pred[:3]"
   ]
  },
  {
   "cell_type": "code",
   "execution_count": 40,
   "id": "92de95b9",
   "metadata": {},
   "outputs": [
    {
     "data": {
      "text/plain": [
       "[3, 8, 8]"
      ]
     },
     "execution_count": 40,
     "metadata": {},
     "output_type": "execute_result"
    }
   ],
   "source": [
    "y_prediction_siniflari = [np.argmax(element) for element in y_pred]\n",
    "y_prediction_siniflari[:3]"
   ]
  },
  {
   "cell_type": "code",
   "execution_count": 41,
   "id": "cdc1109b",
   "metadata": {},
   "outputs": [
    {
     "data": {
      "text/plain": [
       "array([3, 8, 8], dtype=uint8)"
      ]
     },
     "execution_count": 41,
     "metadata": {},
     "output_type": "execute_result"
    }
   ],
   "source": [
    "y_test[:3]"
   ]
  },
  {
   "cell_type": "code",
   "execution_count": 42,
   "id": "44d5e027",
   "metadata": {},
   "outputs": [
    {
     "data": {
      "image/png": "[encoded data removed]",
      "text/plain": [
       "<Figure size 1500x200 with 1 Axes>"
      ]
     },
     "metadata": {},
     "output_type": "display_data"
    }
   ],
   "source": [
    "plot_sample(x_test, y_test, 2)"
   ]
  },
  {
   "cell_type": "code",
   "execution_count": 45,
   "id": "0b74311d",
   "metadata": {},
   "outputs": [
    {
     "data": {
      "text/plain": [
       "'cat'"
      ]
     },
     "execution_count": 45,
     "metadata": {},
     "output_type": "execute_result"
    }
   ],
   "source": [
    "resim_siniflari[y_prediction_siniflari[0]]"
   ]
  },
  {
   "cell_type": "code",
   "execution_count": null,
   "id": "9ab2c0b1",
   "metadata": {},
   "outputs": [],
   "source": []
  }
 ],
 "metadata": {
  "kernelspec": {
   "display_name": "Python 3 (ipykernel)",
   "language": "python",
   "name": "python3"
  },
  "language_info": {
   "codemirror_mode": {
    "name": "ipython",
    "version": 3
   },
   "file_extension": ".py",
   "mimetype": "text/x-python",
   "name": "python",
   "nbconvert_exporter": "python",
   "pygments_lexer": "ipython3",
   "version": "3.9.15"
  }
 },
 "nbformat": 4,
 "nbformat_minor": 5
}
